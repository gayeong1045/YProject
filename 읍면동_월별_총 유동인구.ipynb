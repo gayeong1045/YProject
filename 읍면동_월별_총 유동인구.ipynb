{
 "cells": [
  {
   "cell_type": "markdown",
   "metadata": {},
   "source": [
    "# 데이터 처리 환경 설정"
   ]
  },
  {
   "cell_type": "code",
   "execution_count": 1,
   "metadata": {},
   "outputs": [],
   "source": [
    "import warnings\n",
    "warnings.filterwarnings(action='ignore')\n",
    "import pandas as pd\n",
    "import numpy as np\n",
    "import os\n",
    "import matplotlib.pyplot as plt\n",
    "import collections\n",
    "import datetime as dt\n",
    "import time\n",
    "from sklearn.linear_model import LinearRegression\n",
    "\n",
    "\n",
    "from matplotlib import font_manager, rc\n",
    "from matplotlib import style\n",
    "style.use('ggplot')\n",
    "%matplotlib inline\n",
    "\n",
    "font_name = font_manager.FontProperties(fname=\"c:/Windows/Fonts/malgun.ttf\").get_name()\n",
    "rc('font', family=font_name)\n",
    "\n",
    "from IPython.display import set_matplotlib_formats\n",
    "set_matplotlib_formats(\"retina\")\n",
    "\n",
    "pd.set_option('display.max_rows', 220)\n",
    "pd.set_option('display.max_columns', 10)"
   ]
  },
  {
   "cell_type": "markdown",
   "metadata": {},
   "source": [
    "## Linear Regression function\n",
    "* def predict_people(city, want):\n",
    "    * city:동읍면, want:총 유동인구\n",
    "    * ex) predict_people('장전1동', '총 유동인구')"
   ]
  },
  {
   "cell_type": "markdown",
   "metadata": {},
   "source": [
    "# Q&A\n",
    "* 유동인구를 예측했을 때 음수값이 나올 때는 어떻게 해야하는가?"
   ]
  },
  {
   "cell_type": "code",
   "execution_count": 2,
   "metadata": {},
   "outputs": [],
   "source": [
    "def predict_people(city, want):\n",
    "    data['년월값']=0\n",
    "    data['년월값']=pd.to_datetime(data['년월'])\n",
    "    data['년월값']=data['년월값'].map(dt.datetime.toordinal)\n",
    "    \n",
    "    X=pd.DataFrame(data[data['읍면동']==city]['년월값'])\n",
    "    y=pd.DataFrame(data[data['읍면=ear_month'].dt.strftime('%Y-%m')\n",
    "    \n",
    "    line_fitter=LinearRegression()\n",
    "    line_fitter.fit(X['년월값'].values.reshape(-1,1),y)\n",
    "\n",
    "    predict=line_fitter.predict([[X['년월값'][11]+30]])\n",
    "    print(str(int(np.round([[predict]][-1][-1])))+'명')\n",
    "    \n",
    "    plt.plot(X['년월'], y, 'o')\n",
    "    plt.plot(X['년월'],line_fitter.predict(X['년월값'].values.reshape(-1,1)))\n",
    "    plt.xticks(rotation=20)\n",
    "    plt.show()\n",
    "# line_fitter.coef_, line_fitter.intercept_"
   ]
  },
  {
   "cell_type": "code",
   "execution_count": 3,
   "metadata": {},
   "outputs": [],
   "source": [
    "def predict_money_power(gu):\n",
    "    data_money['년월값']=0\n",
    "    data_money['년월값']=pd.to_datetime(data_money['년도월'])\n",
    "    data_money['년월값']=data_money['년월값'].map(dt.datetime.toordinal)\n",
    "\n",
    "    X=pd.DataFrame(data_money[data_money['구군']==gu]['년월값'])\n",
    "    y=pd.DataFrame(data_money[data_money['구군']==gu]['카드이용금액(천원)'])\n",
    "\n",
    "    X['년월']=X['년월값'].map(dt.date.fromordinal)\n",
    "    X['년월']=pd.to_datetime(X['년월'])\n",
    "\n",
    "    data_list=X['년월'].to_list()\n",
    "    data_list\n",
    "    df=pd.DataFrame({'year_month': data_list})    \n",
    "\n",
    "    X=X.reset_index()\n",
    "    X['년월']= df['year_month'].dt.strftime('%Y-%m')\n",
    "\n",
    "    line_fitter=LinearRegression()\n",
    "    line_fitter.fit(X['년월값'].values.reshape(-1,1),y)\n",
    "\n",
    "    a=line_fitter.predict([[X['년월값'][2]+91]])\n",
    "\n",
    "    print(str(int(np.round([[a]][-1][-1])))+'원')\n",
    "\n",
    "    plt.plot(X['년월'], y, 'o')\n",
    "    plt.plot(X['년월'],line_fitter.predict(X['년월값'].values.reshape(-1,1)))\n",
    "    plt.xticks(rotation=20)\n",
    "    plt.show()"
   ]
  },
  {
   "cell_type": "markdown",
   "metadata": {},
   "source": [
    "## 데이터 불러오기"
   ]
  },
  {
   "cell_type": "code",
   "execution_count": 4,
   "metadata": {},
   "outputs": [],
   "source": [
    "data19=pd.read_csv(\"./data/2019동별 유동인구.csv\", encoding='utf-8')\n",
    "data20=pd.read_csv(\"./data/2020동별 유동인구.csv\", encoding='cp949')\n",
    "data_total=pd.read_csv('./data/2019년도 부산시 총인구(동별).csv', encoding='cp949')\n",
    "data_money=pd.read_csv(\"./data/부산_구군별 총 카드이용금액.csv\", encoding='utf-8')\n",
    "data_rival=pd.read_csv(\"./data/부산_읍면동별_경쟁업체수.csv\", encoding='cp949')"
   ]
  },
  {
   "cell_type": "code",
   "execution_count": 5,
   "metadata": {},
   "outputs": [
    {
     "data": {
      "text/html": [
       "<div>\n",
       "<style scoped>\n",
       "    .dataframe tbody tr th:only-of-type {\n",
       "        vertical-align: middle;\n",
       "    }\n",
       "\n",
       "    .dataframe tbody tr th {\n",
       "        vertical-align: top;\n",
       "    }\n",
       "\n",
       "    .dataframe thead th {\n",
       "        text-align: right;\n",
       "    }\n",
       "</style>\n",
       "<table border=\"1\" class=\"dataframe\">\n",
       "  <thead>\n",
       "    <tr style=\"text-align: right;\">\n",
       "      <th></th>\n",
       "      <th>요일</th>\n",
       "      <th>구군</th>\n",
       "      <th>년</th>\n",
       "      <th>월</th>\n",
       "      <th>읍면동</th>\n",
       "      <th>주중/주말</th>\n",
       "      <th>지역코드</th>\n",
       "      <th>평균 유동인구</th>\n",
       "    </tr>\n",
       "  </thead>\n",
       "  <tbody>\n",
       "    <tr>\n",
       "      <th>0</th>\n",
       "      <td>일</td>\n",
       "      <td>중구</td>\n",
       "      <td>2019</td>\n",
       "      <td>1</td>\n",
       "      <td>중앙동</td>\n",
       "      <td>주말</td>\n",
       "      <td>26110</td>\n",
       "      <td>33,213명</td>\n",
       "    </tr>\n",
       "    <tr>\n",
       "      <th>1</th>\n",
       "      <td>일</td>\n",
       "      <td>중구</td>\n",
       "      <td>2019</td>\n",
       "      <td>1</td>\n",
       "      <td>동광동</td>\n",
       "      <td>주말</td>\n",
       "      <td>26110</td>\n",
       "      <td>4,692명</td>\n",
       "    </tr>\n",
       "    <tr>\n",
       "      <th>2</th>\n",
       "      <td>일</td>\n",
       "      <td>중구</td>\n",
       "      <td>2019</td>\n",
       "      <td>1</td>\n",
       "      <td>대청동</td>\n",
       "      <td>주말</td>\n",
       "      <td>26110</td>\n",
       "      <td>3,342명</td>\n",
       "    </tr>\n",
       "    <tr>\n",
       "      <th>3</th>\n",
       "      <td>일</td>\n",
       "      <td>중구</td>\n",
       "      <td>2019</td>\n",
       "      <td>1</td>\n",
       "      <td>보수동</td>\n",
       "      <td>주말</td>\n",
       "      <td>26110</td>\n",
       "      <td>3,552명</td>\n",
       "    </tr>\n",
       "    <tr>\n",
       "      <th>4</th>\n",
       "      <td>일</td>\n",
       "      <td>중구</td>\n",
       "      <td>2019</td>\n",
       "      <td>1</td>\n",
       "      <td>부평동</td>\n",
       "      <td>주말</td>\n",
       "      <td>26110</td>\n",
       "      <td>10,458명</td>\n",
       "    </tr>\n",
       "    <tr>\n",
       "      <th>...</th>\n",
       "      <td>...</td>\n",
       "      <td>...</td>\n",
       "      <td>...</td>\n",
       "      <td>...</td>\n",
       "      <td>...</td>\n",
       "      <td>...</td>\n",
       "      <td>...</td>\n",
       "      <td>...</td>\n",
       "    </tr>\n",
       "    <tr>\n",
       "      <th>16893</th>\n",
       "      <td>토</td>\n",
       "      <td>기장군</td>\n",
       "      <td>2019</td>\n",
       "      <td>11</td>\n",
       "      <td>철마면</td>\n",
       "      <td>주말</td>\n",
       "      <td>26710</td>\n",
       "      <td>8,369명</td>\n",
       "    </tr>\n",
       "    <tr>\n",
       "      <th>16894</th>\n",
       "      <td>토</td>\n",
       "      <td>기장군</td>\n",
       "      <td>2019</td>\n",
       "      <td>12</td>\n",
       "      <td>기장읍</td>\n",
       "      <td>주말</td>\n",
       "      <td>26710</td>\n",
       "      <td>64,705명</td>\n",
       "    </tr>\n",
       "    <tr>\n",
       "      <th>16895</th>\n",
       "      <td>토</td>\n",
       "      <td>기장군</td>\n",
       "      <td>2019</td>\n",
       "      <td>12</td>\n",
       "      <td>장안읍</td>\n",
       "      <td>주말</td>\n",
       "      <td>26710</td>\n",
       "      <td>13,700명</td>\n",
       "    </tr>\n",
       "    <tr>\n",
       "      <th>16896</th>\n",
       "      <td>토</td>\n",
       "      <td>기장군</td>\n",
       "      <td>2019</td>\n",
       "      <td>12</td>\n",
       "      <td>일광면</td>\n",
       "      <td>주말</td>\n",
       "      <td>26710</td>\n",
       "      <td>13,718명</td>\n",
       "    </tr>\n",
       "    <tr>\n",
       "      <th>16897</th>\n",
       "      <td>토</td>\n",
       "      <td>기장군</td>\n",
       "      <td>2019</td>\n",
       "      <td>12</td>\n",
       "      <td>철마면</td>\n",
       "      <td>주말</td>\n",
       "      <td>26710</td>\n",
       "      <td>6,502명</td>\n",
       "    </tr>\n",
       "  </tbody>\n",
       "</table>\n",
       "<p>16898 rows × 8 columns</p>\n",
       "</div>"
      ],
      "text/plain": [
       "      요일   구군     년   월  읍면동 주중/주말   지역코드  평균 유동인구\n",
       "0      일   중구  2019   1  중앙동    주말  26110  33,213명\n",
       "1      일   중구  2019   1  동광동    주말  26110   4,692명\n",
       "2      일   중구  2019   1  대청동    주말  26110   3,342명\n",
       "3      일   중구  2019   1  보수동    주말  26110   3,552명\n",
       "4      일   중구  2019   1  부평동    주말  26110  10,458명\n",
       "...   ..  ...   ...  ..  ...   ...    ...      ...\n",
       "16893  토  기장군  2019  11  철마면    주말  26710   8,369명\n",
       "16894  토  기장군  2019  12  기장읍    주말  26710  64,705명\n",
       "16895  토  기장군  2019  12  장안읍    주말  26710  13,700명\n",
       "16896  토  기장군  2019  12  일광면    주말  26710  13,718명\n",
       "16897  토  기장군  2019  12  철마면    주말  26710   6,502명\n",
       "\n",
       "[16898 rows x 8 columns]"
      ]
     },
     "execution_count": 5,
     "metadata": {},
     "output_type": "execute_result"
    }
   ],
   "source": [
    "data19"
   ]
  },
  {
   "cell_type": "markdown",
   "metadata": {},
   "source": [
    "## 읍면동 list로 뽑기"
   ]
  },
  {
   "cell_type": "code",
   "execution_count": 6,
   "metadata": {},
   "outputs": [],
   "source": [
    "data_dong_list=[]\n",
    "for i in data20['읍면동'].unique():\n",
    "    data_dong_list.append(i)"
   ]
  },
  {
   "cell_type": "markdown",
   "metadata": {},
   "source": [
    "## 2019년 데이터 전처리"
   ]
  },
  {
   "cell_type": "code",
   "execution_count": 7,
   "metadata": {},
   "outputs": [],
   "source": [
    "for i in range(6,13):\n",
    "    globals()['df{}'.format(i)]=data19[data19['월']==i]\n",
    "    \n",
    "data19=pd.concat([df8,df9,df10,df11,df12], axis=0)\n",
    "data19=data19.reset_index()\n",
    "\n",
    "data19['평균 유동인구']=[pd.to_numeric(data19['평균 유동인구'][i].replace(',','').replace('명','')) for i in range(len(data19['평균 유동인구']))]\n",
    "\n",
    "data_move=[]\n",
    "for i in range(8,13):\n",
    "    for j in data_dong_list:\n",
    "        data_move.append(data19[(data19['읍면동']==j)&(data19['월']==i)]['평균 유동인구'].sum())\n",
    "        \n",
    "data19=data19[data19['요일']=='일']\n",
    "data19=data19.reset_index()\n",
    "data19['총 유동인구']=0\n",
    "for i in range(len(data_move)):\n",
    "    data19['총 유동인구'][i]=data_move[i]\n",
    "    \n",
    "data19=data19[(data19['요일']=='일')]\n",
    "data19=data19[['구군','년','월','읍면동','총 유동인구']]"
   ]
  },
  {
   "cell_type": "code",
   "execution_count": 8,
   "metadata": {},
   "outputs": [
    {
     "data": {
      "text/html": [
       "<div>\n",
       "<style scoped>\n",
       "    .dataframe tbody tr th:only-of-type {\n",
       "        vertical-align: middle;\n",
       "    }\n",
       "\n",
       "    .dataframe tbody tr th {\n",
       "        vertical-align: top;\n",
       "    }\n",
       "\n",
       "    .dataframe thead th {\n",
       "        text-align: right;\n",
       "    }\n",
       "</style>\n",
       "<table border=\"1\" class=\"dataframe\">\n",
       "  <thead>\n",
       "    <tr style=\"text-align: right;\">\n",
       "      <th></th>\n",
       "      <th>구군</th>\n",
       "      <th>년</th>\n",
       "      <th>월</th>\n",
       "      <th>읍면동</th>\n",
       "      <th>총 유동인구</th>\n",
       "    </tr>\n",
       "  </thead>\n",
       "  <tbody>\n",
       "    <tr>\n",
       "      <th>0</th>\n",
       "      <td>중구</td>\n",
       "      <td>2019</td>\n",
       "      <td>8</td>\n",
       "      <td>중앙동</td>\n",
       "      <td>124902</td>\n",
       "    </tr>\n",
       "    <tr>\n",
       "      <th>1</th>\n",
       "      <td>중구</td>\n",
       "      <td>2019</td>\n",
       "      <td>8</td>\n",
       "      <td>동광동</td>\n",
       "      <td>29581</td>\n",
       "    </tr>\n",
       "    <tr>\n",
       "      <th>2</th>\n",
       "      <td>중구</td>\n",
       "      <td>2019</td>\n",
       "      <td>8</td>\n",
       "      <td>대청동</td>\n",
       "      <td>50901</td>\n",
       "    </tr>\n",
       "    <tr>\n",
       "      <th>3</th>\n",
       "      <td>중구</td>\n",
       "      <td>2019</td>\n",
       "      <td>8</td>\n",
       "      <td>보수동</td>\n",
       "      <td>54940</td>\n",
       "    </tr>\n",
       "    <tr>\n",
       "      <th>4</th>\n",
       "      <td>중구</td>\n",
       "      <td>2019</td>\n",
       "      <td>8</td>\n",
       "      <td>부평동</td>\n",
       "      <td>68784</td>\n",
       "    </tr>\n",
       "    <tr>\n",
       "      <th>...</th>\n",
       "      <td>...</td>\n",
       "      <td>...</td>\n",
       "      <td>...</td>\n",
       "      <td>...</td>\n",
       "      <td>...</td>\n",
       "    </tr>\n",
       "    <tr>\n",
       "      <th>995</th>\n",
       "      <td>사상구</td>\n",
       "      <td>2019</td>\n",
       "      <td>12</td>\n",
       "      <td>엄궁동</td>\n",
       "      <td>211134</td>\n",
       "    </tr>\n",
       "    <tr>\n",
       "      <th>996</th>\n",
       "      <td>기장군</td>\n",
       "      <td>2019</td>\n",
       "      <td>12</td>\n",
       "      <td>기장읍</td>\n",
       "      <td>423219</td>\n",
       "    </tr>\n",
       "    <tr>\n",
       "      <th>997</th>\n",
       "      <td>기장군</td>\n",
       "      <td>2019</td>\n",
       "      <td>12</td>\n",
       "      <td>장안읍</td>\n",
       "      <td>103656</td>\n",
       "    </tr>\n",
       "    <tr>\n",
       "      <th>998</th>\n",
       "      <td>기장군</td>\n",
       "      <td>2019</td>\n",
       "      <td>12</td>\n",
       "      <td>일광면</td>\n",
       "      <td>86151</td>\n",
       "    </tr>\n",
       "    <tr>\n",
       "      <th>999</th>\n",
       "      <td>기장군</td>\n",
       "      <td>2019</td>\n",
       "      <td>12</td>\n",
       "      <td>철마면</td>\n",
       "      <td>42571</td>\n",
       "    </tr>\n",
       "  </tbody>\n",
       "</table>\n",
       "<p>1000 rows × 5 columns</p>\n",
       "</div>"
      ],
      "text/plain": [
       "      구군     년   월  읍면동  총 유동인구\n",
       "0     중구  2019   8  중앙동  124902\n",
       "1     중구  2019   8  동광동   29581\n",
       "2     중구  2019   8  대청동   50901\n",
       "3     중구  2019   8  보수동   54940\n",
       "4     중구  2019   8  부평동   68784\n",
       "..   ...   ...  ..  ...     ...\n",
       "995  사상구  2019  12  엄궁동  211134\n",
       "996  기장군  2019  12  기장읍  423219\n",
       "997  기장군  2019  12  장안읍  103656\n",
       "998  기장군  2019  12  일광면   86151\n",
       "999  기장군  2019  12  철마면   42571\n",
       "\n",
       "[1000 rows x 5 columns]"
      ]
     },
     "execution_count": 8,
     "metadata": {},
     "output_type": "execute_result"
    }
   ],
   "source": [
    "data19"
   ]
  },
  {
   "cell_type": "markdown",
   "metadata": {},
   "source": [
    "## 2020년 data 전처리"
   ]
  },
  {
   "cell_type": "code",
   "execution_count": 9,
   "metadata": {},
   "outputs": [],
   "source": [
    "data20['주중/주말 유동인구']=[pd.to_numeric(data20['주중/주말 유동인구'][i].replace(',','')) for i in range(len(data20['주중/주말 유동인구']))]\n",
    "data_move=[]\n",
    "for i in range(1,8):\n",
    "    for j in data_dong_list:\n",
    "        data_move.append(data20[(data20['읍면동']==j)&(data20['월']==i)]['주중/주말 유동인구'].sum())\n",
    "        \n",
    "data20['총 유동인구']=0\n",
    "for i in range(len(data_move)):\n",
    "    data20['총 유동인구'][i]=data_move[i]\n",
    "    \n",
    "data20=data20[data20['요일']=='일']\n",
    "data20=data20[['구군','년','월','읍면동','총 유동인구']]"
   ]
  },
  {
   "cell_type": "markdown",
   "metadata": {},
   "source": [
    "## 19-20 데이터 합치기"
   ]
  },
  {
   "cell_type": "code",
   "execution_count": 10,
   "metadata": {
    "scrolled": true
   },
   "outputs": [],
   "source": [
    "data=pd.concat([data19, data20], axis=0)\n",
    "data=data.reset_index()\n",
    "for i in range(len(data['읍면동'])):\n",
    "    if ('제' in data['읍면동'][i]):\n",
    "        if ('거제' not in data['읍면동'][i]):\n",
    "            data['읍면동'][i]=data['읍면동'][i].replace('제','')"
   ]
  },
  {
   "cell_type": "markdown",
   "metadata": {},
   "source": [
    "## 총 인구수 데이터 전처리"
   ]
  },
  {
   "cell_type": "code",
   "execution_count": 13,
   "metadata": {},
   "outputs": [],
   "source": [
    "data_total=data_total.drop(0)\n",
    "data_total=data_total.reset_index()\n",
    "data_total=data_total[['행정구역(동읍면)별','2019']]\n",
    "data_total.columns=['읍면동','총 인구수']\n",
    "for i in range(len(data_total['읍면동'])):\n",
    "    if ('제' in data_total['읍면동'][i]):\n",
    "        if ('거제' not in data_total['읍면동'][i]):\n",
    "            data_total['읍면동'][i]=data_total['읍면동'][i].replace('제','')\n",
    "        elif ('거제제' in data_total['읍면동'][i]):\n",
    "            data_total['읍면동'][i]=data_total['읍면동'][i].replace('거제제','거제')\n",
    "        \n",
    "a=[]\n",
    "for i in range(len(data_total['읍면동'])):\n",
    "    if '구' in data_total['읍면동'][i][-1]:\n",
    "        a.append(i)\n",
    "        \n",
    "data_total=data_total.drop([1, 11, 25, 38, 50, 71, 85, 103, 117, 136, 153, 171, 180, 193, 204])\n",
    "data_total=data_total.reset_index()"
   ]
  },
  {
   "cell_type": "code",
   "execution_count": 14,
   "metadata": {},
   "outputs": [],
   "source": [
    "data['년월']=0\n",
    "for i in range(len(data['년'])):\n",
    "        data['년월'][i]=str(data['년'][i])+'.'+str(data['월'][i])\n",
    "        data['년월'][i]=pd.to_datetime(data['년월'][i])\n",
    "        \n",
    "\n",
    "data_list=data['년월'].to_list()\n",
    "data_list\n",
    "df=pd.DataFrame({'year_month': data_list})\n",
    "\n",
    "data['년월']= df['year_month'].dt.strftime('%Y-%m')    "
   ]
  },
  {
   "cell_type": "markdown",
   "metadata": {},
   "source": [
    "# 2020년 08월 유동인구 예측\n",
    "* 함수명이랑 같은 변수 사용하면 'list' object is not callable 이 에러 뜸"
   ]
  },
  {
   "cell_type": "code",
   "execution_count": 15,
   "metadata": {},
   "outputs": [],
   "source": [
    "predict_list=data['읍면동'].unique().tolist()\n",
    "predict_people_all=[]\n",
    "for i in predict_list:\n",
    "    data['년월값']=0\n",
    "    data['년월값']=pd.to_datetime(data['년월'])\n",
    "    data['년월값']=data['년월값'].map(dt.datetime.toordinal)\n",
    "\n",
    "    X=pd.DataFrame(data[data['읍면동']==i]['년월값'])\n",
    "    y=pd.DataFrame(data[data['읍면동']==i]['총 유동인구'])\n",
    "    \n",
    "    X['년월']=X['년월값'].map(dt.date.fromordinal)\n",
    "    X['년월']=pd.to_datetime(X['년월'])\n",
    "    \n",
    "    data_list=X['년월'].to_list()\n",
    "    data_list\n",
    "    df=pd.DataFrame({'year_month': data_list})    \n",
    "    \n",
    "    X=X.reset_index()\n",
    "    X['년월']= df['year_month'].dt.strftime('%Y-%m')\n",
    "    \n",
    "    line_fitter=LinearRegression()\n",
    "    line_fitter.fit(X['년월값'].values.reshape(-1,1),y)\n",
    "    \n",
    "    a=line_fitter.predict([[X['년월값'][11]+30]])\n",
    "    predict_people_all.append(int(np.round([[a]][-1][-1])))"
   ]
  },
  {
   "cell_type": "markdown",
   "metadata": {},
   "source": [
    "## 동별, 달별 데이터 구축\n",
    "* 월별 유동인구 수 데이터\n",
    "* 2020-08 유동인구 예측 데이터\n"
   ]
  },
  {
   "cell_type": "code",
   "execution_count": 16,
   "metadata": {},
   "outputs": [],
   "source": [
    "data_per_month=data[['구군','읍면동','년월','총 유동인구']]"
   ]
  },
  {
   "cell_type": "code",
   "execution_count": 17,
   "metadata": {},
   "outputs": [],
   "source": [
    "data_per_dong=data[data['월']==8]\n",
    "data_per_dong['총 인구']=0\n",
    "for i in range(len(data_per_dong['읍면동'])):\n",
    "    for j in range(len(data_total['읍면동'])):\n",
    "        if (data_per_dong['읍면동'][i]==data_total['읍면동'][j]):\n",
    "                data_per_dong['총 인구'][i]=data_total['총 인구수'][j]\n",
    "                \n",
    "# data['총 인구']=data['읍면동'].apply(lambda x: data_total.loc[data_total['읍면동']==x].iloc[0,2])\n",
    "                \n",
    "data_per_dong=data_per_dong[['구군','읍면동','년월','총 유동인구','총 인구']]"
   ]
  },
  {
   "cell_type": "code",
   "execution_count": 19,
   "metadata": {},
   "outputs": [],
   "source": [
    "data_per_dong=data_per_dong[['구군','읍면동','총 인구']]\n",
    "data_per_dong['예측 유동인구']=0\n",
    "for i in range(len(predict_people_all)):\n",
    "    data_per_dong['예측 유동인구'][i]=predict_people_all[i]"
   ]
  },
  {
   "cell_type": "markdown",
   "metadata": {},
   "source": [
    "# 2020년 8월 구매력 예측"
   ]
  },
  {
   "cell_type": "markdown",
   "metadata": {},
   "source": [
    "## 부산시_구별_구매력 데이터 전처리"
   ]
  },
  {
   "cell_type": "code",
   "execution_count": 20,
   "metadata": {},
   "outputs": [],
   "source": [
    "data_money['년도월']=0\n",
    "for i in range(len(data_money['년도'])):\n",
    "        data_money['년도월'][i]=str(data_money['년도'][i])+'.'+str(data_money['월'][i])\n",
    "        data_money['년도월'][i]=pd.to_datetime(data_money['년도월'][i])\n",
    "        \n",
    "\n",
    "data_money_list=data_money['년도월'].to_list()\n",
    "data_money_list\n",
    "df=pd.DataFrame({'year_month': data_money_list})\n",
    "\n",
    "data_money['년도월']= df['year_month'].dt.strftime('%Y-%m') \n",
    "\n",
    "for i in range(len(data_money['3개월 총 카드이용금액(천원)'])):\n",
    "    data_money['3개월 총 카드이용금액(천원)'][i]=int(data_money['3개월 총 카드이용금액(천원)'][i].replace(',',''))\n",
    "    \n",
    "data_money=data_money[['구군','년도월','3개월 총 카드이용금액(천원)']]\n",
    "data_money.columns=['구군','년도월','카드이용금액(천원)']"
   ]
  },
  {
   "cell_type": "markdown",
   "metadata": {},
   "source": [
    "## Linear Regression을 이용한 부산시_구별_구매력 예측"
   ]
  },
  {
   "cell_type": "code",
   "execution_count": 21,
   "metadata": {},
   "outputs": [],
   "source": [
    "data_money_list=data_money['구군'].tolist()\n",
    "\n",
    "money_power=[]\n",
    "for i in data_money_list:\n",
    "    data_money['년월값']=0\n",
    "    data_money['년월값']=pd.to_datetime(data_money['년도월'])\n",
    "    data_money['년월값']=data_money['년월값'].map(dt.datetime.toordinal)\n",
    "\n",
    "    X=pd.DataFrame(data_money[data_money['구군']==i]['년월값'])\n",
    "    y=pd.DataFrame(data_money[data_money['구군']==i]['카드이용금액(천원)'])\n",
    "\n",
    "    X['년월']=X['년월값'].map(dt.date.fromordinal)\n",
    "    X['년월']=pd.to_datetime(X['년월'])\n",
    "\n",
    "    data_list=X['년월'].to_list()\n",
    "    data_list\n",
    "    df=pd.DataFrame({'year_month': data_list})    \n",
    "\n",
    "    X=X.reset_index()\n",
    "    X['년월']= df['year_month'].dt.strftime('%Y-%m')\n",
    "\n",
    "    line_fitter=LinearRegression()\n",
    "    line_fitter.fit(X['년월값'].values.reshape(-1,1),y)\n",
    "\n",
    "    a=line_fitter.predict([[X['년월값'][2]+91]])\n",
    "    money_power.append(int(np.round([[a]][-1][-1])))\n",
    "    \n",
    "data_money['예측 구매력']=0\n",
    "for i in range(len(money_power)):\n",
    "    data_money['예측 구매력'][i]=money_power[i]\n",
    "    \n",
    "data_predict_money=data_money.drop_duplicates('예측 구매력')\n",
    "data_predict_money=data_predict_money[['구군','예측 구매력']]\n",
    "\n",
    "data_per_dong_sum=data_per_dong.groupby('구군').sum()\n",
    "data_per_dong_sum=data_per_dong_sum.reset_index()\n",
    "\n",
    "data_predict_money['총 인구']=0\n",
    "data_predict_money['예측 유동인구']=0\n",
    "\n",
    "for i in range(len(data_predict_money['구군'])):\n",
    "    for j in range(len(data_per_dong_sum['구군'])):\n",
    "        if (data_predict_money['구군'][i]==data_per_dong_sum['구군'][j]):\n",
    "            data_predict_money['총 인구'][i]=data_per_dong_sum['총 인구'][j]\n",
    "            data_predict_money['예측 유동인구'][i]=data_per_dong_sum['예측 유동인구'][j]"
   ]
  },
  {
   "cell_type": "markdown",
   "metadata": {},
   "source": [
    "## 구별 데이터를 동별 데이터로 변환작업"
   ]
  },
  {
   "cell_type": "code",
   "execution_count": 22,
   "metadata": {},
   "outputs": [],
   "source": [
    "data_predict_money['인구 별 구매력']=0\n",
    "data_predict_money['인구 별 구매력']=data_predict_money['예측 구매력']/data_predict_money['총 인구']\n",
    "\n",
    "data_money_power=pd.merge(data_predict_money, data_per_dong,on='구군',how='right')\n",
    "data_money_power=data_money_power[['구군','읍면동','총 인구_y','인구 별 구매력']]\n",
    "\n",
    "data_money_power['동별 구매력']=0\n",
    "data_money_power['동별 구매력']=data_money_power['총 인구_y']*data_money_power['인구 별 구매력']\n",
    "\n",
    "data_money_power['동별 구매력']=np.round(data_money_power['동별 구매력'],-3)"
   ]
  },
  {
   "cell_type": "markdown",
   "metadata": {},
   "source": [
    "## 동별 데이터에 병합"
   ]
  },
  {
   "cell_type": "code",
   "execution_count": 23,
   "metadata": {
    "scrolled": true
   },
   "outputs": [],
   "source": [
    "data_per_dong=pd.merge(data_per_dong,data_money_power,on='읍면동',how='left')\n",
    "data_per_dong=data_per_dong[['구군_x','읍면동','총 인구','예측 유동인구','동별 구매력']]\n",
    "data_per_dong.columns=['구군','읍면동','총 인구','예측 유동인구','예측 구매력']"
   ]
  },
  {
   "cell_type": "markdown",
   "metadata": {},
   "source": [
    "# 동별 경쟁업체 수 병합"
   ]
  },
  {
   "cell_type": "code",
   "execution_count": 24,
   "metadata": {},
   "outputs": [],
   "source": [
    "data_rival=data_rival[['행정동명','편의점수','대형마트수','슈퍼마켓수','합계']]\n",
    "data_rival.columns=['읍면동','편의점 수','대형마트 수','슈퍼마켓 수','경쟁업체 수']\n",
    "data_per_dong=pd.merge(data_per_dong, data_rival, on='읍면동', how='left')"
   ]
  },
  {
   "cell_type": "code",
   "execution_count": 25,
   "metadata": {},
   "outputs": [],
   "source": [
    "for i in range(len(data_per_dong['예측 구매력'])):\n",
    "    data_per_dong['예측 구매력'][i]=int(data_per_dong['예측 구매력'][i])\n",
    "    data_per_dong['편의점 수'][i]=int(data_per_dong['편의점 수'][i])\n",
    "    data_per_dong['대형마트 수'][i]=int(data_per_dong['대형마트 수'][i])\n",
    "    data_per_dong['슈퍼마켓 수'][i]=int(data_per_dong['슈퍼마켓 수'][i])\n",
    "    data_per_dong['경쟁업체 수'][i]=int(data_per_dong['경쟁업체 수'][i])"
   ]
  },
  {
   "cell_type": "markdown",
   "metadata": {},
   "source": [
    "# 모든 데이터 병합"
   ]
  },
  {
   "cell_type": "markdown",
   "metadata": {},
   "source": [
    "* merge 하면 열로 부르기 안 됨"
   ]
  },
  {
   "cell_type": "code",
   "execution_count": 26,
   "metadata": {
    "scrolled": true
   },
   "outputs": [
    {
     "data": {
      "text/html": [
       "<div>\n",
       "<style scoped>\n",
       "    .dataframe tbody tr th:only-of-type {\n",
       "        vertical-align: middle;\n",
       "    }\n",
       "\n",
       "    .dataframe tbody tr th {\n",
       "        vertical-align: top;\n",
       "    }\n",
       "\n",
       "    .dataframe thead tr th {\n",
       "        text-align: left;\n",
       "    }\n",
       "</style>\n",
       "<table border=\"1\" class=\"dataframe\">\n",
       "  <thead>\n",
       "    <tr>\n",
       "      <th></th>\n",
       "      <th>구군</th>\n",
       "      <th>읍면동</th>\n",
       "      <th>년월</th>\n",
       "      <th>총 유동인구</th>\n",
       "      <th>총 인구</th>\n",
       "      <th>...</th>\n",
       "      <th>예측 구매력</th>\n",
       "      <th>편의점 수</th>\n",
       "      <th>대형마트 수</th>\n",
       "      <th>슈퍼마켓 수</th>\n",
       "      <th>경쟁업체 수</th>\n",
       "    </tr>\n",
       "  </thead>\n",
       "  <tbody>\n",
       "    <tr>\n",
       "      <th>0</th>\n",
       "      <td>중구</td>\n",
       "      <td>중앙동</td>\n",
       "      <td>2019-08</td>\n",
       "      <td>124902</td>\n",
       "      <td>2029</td>\n",
       "      <td>...</td>\n",
       "      <td>4007000.0</td>\n",
       "      <td>17</td>\n",
       "      <td>3</td>\n",
       "      <td>30</td>\n",
       "      <td>50</td>\n",
       "    </tr>\n",
       "    <tr>\n",
       "      <th>1</th>\n",
       "      <td>중구</td>\n",
       "      <td>동광동</td>\n",
       "      <td>2019-08</td>\n",
       "      <td>29581</td>\n",
       "      <td>2957</td>\n",
       "      <td>...</td>\n",
       "      <td>5839000.0</td>\n",
       "      <td>4</td>\n",
       "      <td>0</td>\n",
       "      <td>8</td>\n",
       "      <td>12</td>\n",
       "    </tr>\n",
       "    <tr>\n",
       "      <th>2</th>\n",
       "      <td>중구</td>\n",
       "      <td>대청동</td>\n",
       "      <td>2019-08</td>\n",
       "      <td>50901</td>\n",
       "      <td>6692</td>\n",
       "      <td>...</td>\n",
       "      <td>13214000.0</td>\n",
       "      <td>3</td>\n",
       "      <td>0</td>\n",
       "      <td>4</td>\n",
       "      <td>7</td>\n",
       "    </tr>\n",
       "    <tr>\n",
       "      <th>3</th>\n",
       "      <td>중구</td>\n",
       "      <td>보수동</td>\n",
       "      <td>2019-08</td>\n",
       "      <td>54940</td>\n",
       "      <td>10777</td>\n",
       "      <td>...</td>\n",
       "      <td>21280000.0</td>\n",
       "      <td>5</td>\n",
       "      <td>2</td>\n",
       "      <td>9</td>\n",
       "      <td>16</td>\n",
       "    </tr>\n",
       "    <tr>\n",
       "      <th>4</th>\n",
       "      <td>중구</td>\n",
       "      <td>부평동</td>\n",
       "      <td>2019-08</td>\n",
       "      <td>68784</td>\n",
       "      <td>4717</td>\n",
       "      <td>...</td>\n",
       "      <td>9314000.0</td>\n",
       "      <td>11</td>\n",
       "      <td>0</td>\n",
       "      <td>21</td>\n",
       "      <td>32</td>\n",
       "    </tr>\n",
       "    <tr>\n",
       "      <th>...</th>\n",
       "      <td>...</td>\n",
       "      <td>...</td>\n",
       "      <td>...</td>\n",
       "      <td>...</td>\n",
       "      <td>...</td>\n",
       "      <td>...</td>\n",
       "      <td>...</td>\n",
       "      <td>...</td>\n",
       "      <td>...</td>\n",
       "      <td>...</td>\n",
       "      <td>...</td>\n",
       "    </tr>\n",
       "    <tr>\n",
       "      <th>2395</th>\n",
       "      <td>기장군</td>\n",
       "      <td>철마면</td>\n",
       "      <td>2020-06</td>\n",
       "      <td>191013</td>\n",
       "      <td>8400</td>\n",
       "      <td>...</td>\n",
       "      <td>56723000.0</td>\n",
       "      <td>3</td>\n",
       "      <td>2</td>\n",
       "      <td>9</td>\n",
       "      <td>14</td>\n",
       "    </tr>\n",
       "    <tr>\n",
       "      <th>2396</th>\n",
       "      <td>기장군</td>\n",
       "      <td>기장읍</td>\n",
       "      <td>2020-07</td>\n",
       "      <td>427352</td>\n",
       "      <td>55567</td>\n",
       "      <td>...</td>\n",
       "      <td>375230000.0</td>\n",
       "      <td>44</td>\n",
       "      <td>6</td>\n",
       "      <td>59</td>\n",
       "      <td>109</td>\n",
       "    </tr>\n",
       "    <tr>\n",
       "      <th>2397</th>\n",
       "      <td>기장군</td>\n",
       "      <td>장안읍</td>\n",
       "      <td>2020-07</td>\n",
       "      <td>105837</td>\n",
       "      <td>8965</td>\n",
       "      <td>...</td>\n",
       "      <td>60538000.0</td>\n",
       "      <td>11</td>\n",
       "      <td>1</td>\n",
       "      <td>20</td>\n",
       "      <td>32</td>\n",
       "    </tr>\n",
       "    <tr>\n",
       "      <th>2398</th>\n",
       "      <td>기장군</td>\n",
       "      <td>일광면</td>\n",
       "      <td>2020-07</td>\n",
       "      <td>96131</td>\n",
       "      <td>8668</td>\n",
       "      <td>...</td>\n",
       "      <td>58533000.0</td>\n",
       "      <td>6</td>\n",
       "      <td>0</td>\n",
       "      <td>10</td>\n",
       "      <td>16</td>\n",
       "    </tr>\n",
       "    <tr>\n",
       "      <th>2399</th>\n",
       "      <td>기장군</td>\n",
       "      <td>철마면</td>\n",
       "      <td>2020-07</td>\n",
       "      <td>66538</td>\n",
       "      <td>8400</td>\n",
       "      <td>...</td>\n",
       "      <td>56723000.0</td>\n",
       "      <td>3</td>\n",
       "      <td>2</td>\n",
       "      <td>9</td>\n",
       "      <td>14</td>\n",
       "    </tr>\n",
       "  </tbody>\n",
       "</table>\n",
       "<p>2400 rows × 11 columns</p>\n",
       "</div>"
      ],
      "text/plain": [
       "       구군  읍면동       년월  총 유동인구   총 인구  ...       예측 구매력 편의점 수 대형마트 수 슈퍼마켓 수  \\\n",
       "0      중구  중앙동  2019-08  124902   2029  ...    4007000.0    17      3     30   \n",
       "1      중구  동광동  2019-08   29581   2957  ...    5839000.0     4      0      8   \n",
       "2      중구  대청동  2019-08   50901   6692  ...   13214000.0     3      0      4   \n",
       "3      중구  보수동  2019-08   54940  10777  ...   21280000.0     5      2      9   \n",
       "4      중구  부평동  2019-08   68784   4717  ...    9314000.0    11      0     21   \n",
       "...   ...  ...      ...     ...    ...  ...          ...   ...    ...    ...   \n",
       "2395  기장군  철마면  2020-06  191013   8400  ...   56723000.0     3      2      9   \n",
       "2396  기장군  기장읍  2020-07  427352  55567  ...  375230000.0    44      6     59   \n",
       "2397  기장군  장안읍  2020-07  105837   8965  ...   60538000.0    11      1     20   \n",
       "2398  기장군  일광면  2020-07   96131   8668  ...   58533000.0     6      0     10   \n",
       "2399  기장군  철마면  2020-07   66538   8400  ...   56723000.0     3      2      9   \n",
       "\n",
       "     경쟁업체 수  \n",
       "0        50  \n",
       "1        12  \n",
       "2         7  \n",
       "3        16  \n",
       "4        32  \n",
       "...     ...  \n",
       "2395     14  \n",
       "2396    109  \n",
       "2397     32  \n",
       "2398     16  \n",
       "2399     14  \n",
       "\n",
       "[2400 rows x 11 columns]"
      ]
     },
     "execution_count": 26,
     "metadata": {},
     "output_type": "execute_result"
    }
   ],
   "source": [
    "data_all=pd.merge(data_per_month, data_per_dong, on='읍면동',how='left')\n",
    "data_all=data_all[['구군_x','읍면동','년월','총 유동인구','총 인구','예측 유동인구'\n",
    "                   ,'예측 구매력','편의점 수','대형마트 수','슈퍼마켓 수','경쟁업체 수']]\n",
    "data_all.columns=[['구군','읍면동','년월','총 유동인구','총 인구','예측 유동인구',\n",
    "                   '예측 구매력','편의점 수','대형마트 수','슈퍼마켓 수','경쟁업체 수']]\n",
    "data_all"
   ]
  },
  {
   "cell_type": "markdown",
   "metadata": {},
   "source": [
    "## 데이터 저장"
   ]
  },
  {
   "cell_type": "code",
   "execution_count": 27,
   "metadata": {
    "scrolled": true
   },
   "outputs": [],
   "source": [
    "data_per_month.to_csv('./data/save/부산_읍면동_월별_총 유동인구.csv', encoding='euc-kr')\n",
    "data_per_dong.to_csv('./data/save/부산_동별_데이터.csv', encoding='euc-kr')\n",
    "data_all.to_csv('./data/save/부산_읍면동_최종 데이터.csv', encoding='euc-kr')"
   ]
  },
  {
   "cell_type": "code",
   "execution_count": 28,
   "metadata": {},
   "outputs": [
    {
     "name": "stdout",
     "output_type": "stream",
     "text": [
      "153358명\n"
     ]
    },
    {
     "data": {
      "image/png": "[encoded data removed]",
      "text/plain": [
       "<Figure size 432x288 with 1 Axes>"
      ]
     },
     "metadata": {
      "image/png": {
       "height": 261,
       "width": 393
      },
      "needs_background": "light"
     },
     "output_type": "display_data"
    }
   ],
   "source": [
    "predict_people('중앙동','총 유동인구')"
   ]
  },
  {
   "cell_type": "code",
   "execution_count": 29,
   "metadata": {},
   "outputs": [
    {
     "name": "stdout",
     "output_type": "stream",
     "text": [
      "710130197원\n"
     ]
    },
    {
     "data": {
      "image/png": "[encoded data removed]",
      "text/plain": [
       "<Figure size 432x288 with 1 Axes>"
      ]
     },
     "metadata": {
      "image/png": {
       "height": 272,
       "width": 373
      },
      "needs_background": "light"
     },
     "output_type": "display_data"
    }
   ],
   "source": [
    "predict_money_power('금정구')"
   ]
  },
  {
   "cell_type": "code",
   "execution_count": null,
   "metadata": {
    "scrolled": true
   },
   "outputs": [],
   "source": [
    "# data_kind=pd.read_csv(\"./data/부산_구군별 업종 현황.csv\", encoding='utf-8')"
   ]
  },
  {
   "cell_type": "code",
   "execution_count": null,
   "metadata": {},
   "outputs": [],
   "source": [
    "# data_kind=data_kind[data_kind['업종']=='소매업(자동차 제외)']\n",
    "\n",
    "# data_kind=data_kind.reset_index()\n",
    "\n",
    "# data_kind['년도월']=0\n",
    "# for i in range(len(data_kind['년도'])):\n",
    "#         data_kind['년도월'][i]=str(data_kind['년도'][i])+'.'+str(data_kind['월'][i])\n",
    "#         data_kind['년도월'][i]=pd.to_datetime(data_kind['년도월'][i])\n",
    "        \n",
    "\n",
    "# data_kind_list=data_kind['년도월'].to_list()\n",
    "# data_kind_list\n",
    "# df=pd.DataFrame({'year_month': data_kind_list})\n",
    "\n",
    "# data_kind['년도월']= df['year_month'].dt.strftime('%Y-%m')    \n",
    "\n",
    "# data_kind=data_kind[['년도월','거주지역','업종','가입자수']]\n",
    "\n",
    "# data_kind['업종']='소매업'\n",
    "\n",
    "# for i in range(len(data_kind['가입자수'])):\n",
    "#     data_kind['가입자수'][i]=int(data_kind['가입자수'][i].replace(',',''))\n",
    "\n",
    "# df_index=data_kind[data_kind['년도월']=='2019-03'].index\n",
    "# df_index\n",
    "# data_kind=data_kind.drop(df_index)\n",
    "\n",
    "# data_kind=data_kind.reset_index()"
   ]
  }
 ],
 "metadata": {
  "kernelspec": {
   "display_name": "Python 3",
   "language": "python",
   "name": "python3"
  },
  "language_info": {
   "codemirror_mode": {
    "name": "ipython",
    "version": 3
   },
   "file_extension": ".py",
   "mimetype": "text/x-python",
   "name": "python",
   "nbconvert_exporter": "python",
   "pygments_lexer": "ipython3",
   "version": "3.8.3"
  }
 },
 "nbformat": 4,
 "nbformat_minor": 4
}
