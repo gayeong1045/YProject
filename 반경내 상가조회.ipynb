{
 "cells": [
  {
   "cell_type": "code",
   "execution_count": 2,
   "metadata": {},
   "outputs": [],
   "source": [
    "import pandas as pd\n",
    "import seaborn as sns\n",
    "import matplotlib.pyplot as plt\n",
    "import numpy as np\n",
    "import requests\n",
    "from bs4 import BeautifulSoup\n",
    "\n",
    "import matplotlib.pyplot as plt\n",
    "from matplotlib import font_manager, rc\n",
    "from matplotlib import style\n",
    "style.use('ggplot')\n",
    "%matplotlib inline\n",
    "\n",
    "font_name = font_manager.FontProperties(fname=\"c:/Windows/Fonts/malgun.ttf\").get_name()\n",
    "rc('font', family=font_name)\n",
    "plt.rcParams['axes.unicode_minus'] = False\n",
    "\n",
    "\n",
    "from IPython.display import set_matplotlib_formats\n",
    "set_matplotlib_formats(\"retina\")"
   ]
  },
  {
   "cell_type": "code",
   "execution_count": 68,
   "metadata": {},
   "outputs": [
    {
     "name": "stdout",
     "output_type": "stream",
     "text": [
      "129.084548 35.238838 \n"
     ]
    }
   ],
   "source": [
    "cx, cy = map(str, input().split())\n",
    "\n",
    "saga_name = []\n",
    "juso = []\n",
    "upjong_code = []\n",
    "hjdong = []\n",
    "\n",
    "open_api_key = 'oh3n93%2BmUwsTMmVjqBVN%2BJPSdFnw5%2F%2FET46RfYbH%2F4uLXLWCkAXRdI16yhhovH%2FYUP9EiHMtDoW%2FVeGzZTDvpg%3D%3D'\n",
    "params = '&radius=500&cx='+cx+'&cy='+cy+'&indsMclsCd=D03&numOfRows=100&'\n",
    "open_url = 'http://apis.data.go.kr/B553077/api/open/sdsc/storeListInRadius?ServiceKey=' + open_api_key + params\n",
    "\n",
    "res = requests.get(open_url)\n",
    "soup = BeautifulSoup(res.content, 'html.parser')\n",
    "\n",
    "data = soup.find_all('item')\n",
    "\n",
    "for item in data :\n",
    "    saga_name.append(item.select_one(\"bizesnm\").get_text())\n",
    "    juso.append(item.select_one(\"rdnm\").get_text())\n",
    "    hjdong.append(item.select_one(\"adongnm\").get_text())\n",
    "    upjong_code.append(item.select_one(\"indsSclsCd\").get_text())\n",
    "    \n",
    "df = pd.DataFrame({'상가이름': saga_name,'업종코드':upjong_code, '행정동':hjdong, '주소': juso})\n",
    "\n",
    "#종합소매, 편의점, 할인점, 수퍼마켓 아닌 업종 추출\n",
    "for item in df['업종코드']:\n",
    "    del_list = []\n",
    "    if (item!='D03A06') and (item != 'D03A01') and (item!= 'D03B10') and (item != 'D03A02'):\n",
    "        del_list.append(item)"
   ]
  },
  {
   "cell_type": "markdown",
   "metadata": {},
   "source": [
    "* 예시 위경도 129.084548 35.238838 \n",
    "\n",
    "* D\t소매\tD03\t종합소매점\tD03A06\t종합소매\n",
    "* D\t소매\tD03\t종합소매점\tD03A01\t편의점\n",
    "* D\t소매\tD03\t종합소매점\tD03B10\t할인점\n",
    "* D\t소매\tD03\t종합소매점\tD03A02\t수퍼마켓"
   ]
  },
  {
   "cell_type": "code",
   "execution_count": null,
   "metadata": {},
   "outputs": [],
   "source": []
  },
  {
   "cell_type": "code",
   "execution_count": null,
   "metadata": {},
   "outputs": [],
   "source": []
  },
  {
   "cell_type": "code",
   "execution_count": null,
   "metadata": {},
   "outputs": [],
   "source": []
  }
 ],
 "metadata": {
  "kernelspec": {
   "display_name": "Python 3",
   "language": "python",
   "name": "python3"
  },
  "language_info": {
   "codemirror_mode": {
    "name": "ipython",
    "version": 3
   },
   "file_extension": ".py",
   "mimetype": "text/x-python",
   "name": "python",
   "nbconvert_exporter": "python",
   "pygments_lexer": "ipython3",
   "version": "3.8.3"
  }
 },
 "nbformat": 4,
 "nbformat_minor": 4
}
